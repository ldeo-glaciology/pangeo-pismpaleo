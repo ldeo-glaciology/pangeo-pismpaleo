{
 "cells": [
  {
   "cell_type": "markdown",
   "metadata": {},
   "source": [
    "<a id='top'></a>\n",
    "<h1>PISM paleo data to zarr </h1>\n",
    "\n",
    "Transformation of data from Antarctic Ice Sheet glacial cycle experiments\n",
    "\n",
    "(c) 2021 by Torsten Albrecht (torsten.albrecht@pik-potsdam.de) | Potsdam Institute for Climate Impact Research (PIK)\n",
    "\n",
    "based on https://github.com/ldeo-glaciology/pangeo-bedmachine\n",
    "and https://github.com/ldeo-glaciology/pangeo-pismpaleo\n",
    "\n",
    "\n",
    "*data:* Albrecht, Torsten (2018): PISM simulation results of the Antarctic Ice Sheet deglaciation. GFZ Data Services. https://doi.org/10.5880/PIK.2018.008\n",
    "\n",
    "\n",
    "Supplement to: Kingslake, J., Scherer, R. P., Albrecht, T., Coenen, J., Powell, R. D., Reese, R., … Whitehouse, P. L. (2018). Extensive retreat and re-advance of the West Antarctic Ice Sheet during the Holocene. Nature. doi:10.1038/s41586-018-0208-x\n"
   ]
  },
  {
   "cell_type": "markdown",
   "metadata": {},
   "source": [
    "<a id='overview'></a>\n",
    "<h2>Overview of settings</h2>"
   ]
  },
  {
   "cell_type": "markdown",
   "metadata": {},
   "source": [
    "**Forcings and initial values** see https://github.com/pism/pism-ais\n",
    "\n",
    "*Initial ice configuration:* Bedmap2, Fretwell et al., 2013\n",
    "\n",
    "*Atmosphere:* RACMO v2.1, HadCM3; Ligtenberg et al., 2013\n",
    "\n",
    "*Ocean:* Schmidtko et al. 2014, Zwally et al., 2012\n",
    "\n",
    "*Basal Heatflux:* Shapiro and Ritzwoller, 2014\n",
    "\n",
    "\n",
    "\n",
    "**Key parameters**\n",
    "```\n",
    "\n",
    "ecalv = 1e17 m s\n",
    "hcalv = 75 m\n",
    "gammaT = 1.0e-5\n",
    "overturning_coeff = 0.8e6\n",
    "ppq = 0.75\n",
    "essa = 0.6\n",
    "esia = 2.0\n",
    "till_effo = 0.04\n",
    "till_dec = 1 mm/yr\n",
    "pscale = 2 %/K\n",
    "visc = 0.5e21 Pa s\n",
    "\n",
    "```\n",
    "\n",
    "**Run length**\n",
    "\n",
    "35,000 years (after spin-up over 205,000 years)\n",
    "\n",
    "**Horizontal grid resolution**\n",
    "\n",
    "15000 m x 15000 m (400 x 400 grid points)\n",
    "\n",
    "<br>\n",
    "<div class=\"alert alert-block alert-warning\">**PISM code version**\n",
    "<br><br>\n",
    "PISMR (development c0cbb7b committed by Torsten Albrecht on 2017-04-06 12:13:27 +0200<br>\n",
    "see branch <a href=\"https://github.com/pism/pism/tree/pik/paleo_07dev\">https://github.com/pism/pism/tree/pik/paleo_07dev</a>,<br>\n",
    "see release <a href=\"https://github.com/pism/pism/releases/tag/pik-holocene-gl-rebound\">https://github.com/pism/pism/releases/tag/pik-holocene-gl-rebound</a>,<br>\n",
    "published in <a href=\"https://\n",
    "doi.org/10.5281/zenodo.1199066\">https://\n",
    "doi.org/10.5281/zenodo.1199066</a><br>\n",
    "</div>\n",
    "\n",
    "\n",
    "pism/pik/paleo_07dev"
   ]
  },
  {
   "cell_type": "markdown",
   "metadata": {},
   "source": [
    "<a id='settings'></a>\n",
    "<h2>Notebook settings</h2>"
   ]
  },
  {
   "cell_type": "code",
   "execution_count": 1,
   "metadata": {},
   "outputs": [
    {
     "data": {
      "application/javascript": [
       "// hide presentation toolbar\n",
       "$('.nbp-app-bar').toggle()\n",
       "\n",
       "// disable autoscroll in output cells\n",
       "IPython.OutputArea.prototype._should_scroll = function(lines) {\n",
       "    return false;\n",
       "}\n"
      ],
      "text/plain": [
       "<IPython.core.display.Javascript object>"
      ]
     },
     "metadata": {},
     "output_type": "display_data"
    }
   ],
   "source": [
    "%%javascript\n",
    "// hide presentation toolbar\n",
    "$('.nbp-app-bar').toggle()\n",
    "\n",
    "// disable autoscroll in output cells\n",
    "IPython.OutputArea.prototype._should_scroll = function(lines) {\n",
    "    return false;\n",
    "}"
   ]
  },
  {
   "cell_type": "code",
   "execution_count": 2,
   "metadata": {},
   "outputs": [
    {
     "data": {
      "text/html": [
       "<style>.container { width:90% !important; }</style>"
      ],
      "text/plain": [
       "<IPython.core.display.HTML object>"
      ]
     },
     "metadata": {},
     "output_type": "display_data"
    }
   ],
   "source": [
    "# Make the notebook cells take almost all available width\n",
    "# More info:\n",
    "# https://stackoverflow.com/questions/21971449/how-do-i-increase-the-cell-width-of-the-jupyter-ipython-notebook-in-my-browser\n",
    "from IPython.core.display import display, HTML\n",
    "display(HTML(\"<style>.container { width:90% !important; }</style>\"))"
   ]
  },
  {
   "cell_type": "markdown",
   "metadata": {},
   "source": [
    "<a id='constants'></a>\n",
    "<h2>PISM constants and pathes</h2>"
   ]
  },
  {
   "cell_type": "code",
   "execution_count": 3,
   "metadata": {},
   "outputs": [
    {
     "name": "stdout",
     "output_type": "stream",
     "text": [
      "\n",
      "INSTALLED VERSIONS\n",
      "------------------\n",
      "commit: None\n",
      "python: 3.8.5 (default, Sep  4 2020, 07:30:14) \n",
      "[GCC 7.3.0]\n",
      "python-bits: 64\n",
      "OS: Linux\n",
      "OS-release: 4.4.162-94.72-default\n",
      "machine: x86_64\n",
      "processor: x86_64\n",
      "byteorder: little\n",
      "LC_ALL: None\n",
      "LANG: en_US.UTF-8\n",
      "LOCALE: en_US.UTF-8\n",
      "libhdf5: 1.10.4\n",
      "libnetcdf: 4.7.3\n",
      "\n",
      "xarray: 0.16.1\n",
      "pandas: 1.1.4\n",
      "numpy: 1.19.4\n",
      "scipy: 1.5.2\n",
      "netCDF4: 1.5.3\n",
      "pydap: None\n",
      "h5netcdf: None\n",
      "h5py: None\n",
      "Nio: None\n",
      "zarr: 2.5.0\n",
      "cftime: 1.3.0\n",
      "nc_time_axis: None\n",
      "PseudoNetCDF: None\n",
      "rasterio: None\n",
      "cfgrib: None\n",
      "iris: None\n",
      "bottleneck: None\n",
      "dask: 2.30.0\n",
      "distributed: 2.30.1\n",
      "matplotlib: 3.3.3\n",
      "cartopy: 0.18.0\n",
      "seaborn: 0.11.0\n",
      "numbagg: None\n",
      "pint: None\n",
      "setuptools: 50.3.0.post20201006\n",
      "pip: 20.2.4\n",
      "conda: None\n",
      "pytest: None\n",
      "IPython: 7.18.1\n",
      "sphinx: None\n"
     ]
    }
   ],
   "source": [
    "%matplotlib inline\n",
    "%config InlineBackend.figure_formats = {'svg',}\n",
    "\n",
    "import matplotlib.pylab as plt\n",
    "#from matplotlib import cm, colors, rcParams\n",
    "import netCDF4 as nc\n",
    "import numpy as np\n",
    "#import copy\n",
    "#import os, glob, sys, copy\n",
    "#import pandas as pd\n",
    "import xarray as xr\n",
    "import gcsfs\n",
    "import json\n",
    "#import warnings\n",
    "import cftime\n",
    "import copy, os\n",
    "from tqdm.notebook import tqdm   # progress bar\n",
    "\n",
    "### set constants\n",
    "seconds_per_year = 365.0*24.0*60.0*60.0 #3.1556926e7\n",
    "\n",
    "# public\n",
    "trunk = \"/p/projects/tumble/albrecht/data_rebound/\"\n",
    "datapath = trunk+\"datapub/model_data/\"\n",
    "\n",
    "# PIK archive\n",
    "datapath = trunk+\"archive/model_data/\"\n",
    "\n",
    "\n",
    "xr.show_versions()"
   ]
  },
  {
   "cell_type": "markdown",
   "metadata": {},
   "source": [
    "<a id='pismfiles'></a>\n",
    "<h2>Collect reference simulation results in dict</h2>"
   ]
  },
  {
   "cell_type": "code",
   "execution_count": 4,
   "metadata": {},
   "outputs": [],
   "source": [
    "\n",
    "refrun = {}\n",
    "refrun['exp_dir'] = datapath\n",
    "refrun['run_id'] = 2205\n",
    "refrun['exp_name'] = refrun['exp_dir']+\"forcing\"+str(refrun['run_id'])+\"_LGM/results\"\n",
    "refrun['notes'] = \"PISM paleo reference simulation data as in https://doi.org/10.5880/PIK.2018.008\"\n",
    "\n",
    "model_files = [\"present\",\"extra\"] #,\"timeseries\"]\n",
    "refrun['file_path'] = dict.fromkeys(model_files,\"\")\n",
    "        \n",
    "#present_file = \"result_forcing_15km_205000yrs_basal.nc\"\n",
    "present_file = \"result_forcing_15km_205000yrs.nc\"\n",
    "refrun['file_path']['present'] = [os.path.join(refrun['exp_name'], present_file)]\n",
    "        \n",
    "#extra_file = \"extra_forcing_15km_205000yrs.nc\"\n",
    "extra_file = \"extra_forcing_15km_205000yrs_tozarr.nc\"\n",
    "refrun['file_path']['extra'] = [os.path.join(refrun['exp_name'], extra_file)]\n",
    "        \n",
    "time_file = \"ts_forcing_15km_205000yrs.nc\"\n",
    "refrun['file_path']['timeseries'] = [os.path.join(refrun['exp_name'], time_file)]\n"
   ]
  },
  {
   "cell_type": "markdown",
   "metadata": {},
   "source": [
    "<a id='xarrayload'></a>\n",
    "<h2>Load PISM netCDF files to xarrays </h2>"
   ]
  },
  {
   "cell_type": "code",
   "execution_count": 5,
   "metadata": {},
   "outputs": [
    {
     "data": {
      "application/vnd.jupyter.widget-view+json": {
       "model_id": "ff70aa8a63f14af28166378584a02881",
       "version_major": 2,
       "version_minor": 0
      },
      "text/plain": [
       "HBox(children=(HTML(value=''), FloatProgress(value=0.0, max=2.0), HTML(value='')))"
      ]
     },
     "metadata": {},
     "output_type": "display_data"
    },
    {
     "name": "stdout",
     "output_type": "stream",
     "text": [
      "present\n",
      "extra\n",
      "\n"
     ]
    }
   ],
   "source": [
    "\n",
    "variables={#'present':['mask','velsurf_mag'],\n",
    "           #'extra':['mask','thk','topg','usurf'],\n",
    "           'present':['mask','thk','topg','usurf','velbar_mag','dbdt'],\n",
    "           'extra':['mask','thk','topg','usurf','velbar_mag'],\n",
    "           'timeseries':['slvol','volume_glacierized','time']}\n",
    "\n",
    "datasets=[]\n",
    "for mf in tqdm(model_files):\n",
    "        print(mf)\n",
    "        #datasets=[]\n",
    "        dataset=[]\n",
    "        if refrun['file_path'][mf]:\n",
    "            for pismf in refrun['file_path'][mf]:\n",
    "              #with xr.set_options(enable_cftimeindex=True):\n",
    "                with xr.open_dataset(pismf, decode_cf=True,decode_times=False,use_cftime=True,chunks={'x': 400, 'y': 400, 'time': -1}) as ds: #decode_timedelta=True\n",
    "                    ds = ds.get(variables[mf])\n",
    "                    # convert to years\n",
    "                    ds[\"time\"]=(['time'], ds[\"time\"].time/seconds_per_year)\n",
    "\n",
    "                    dataset.append(ds)\n",
    "                    \n",
    "        concat_time = xr.concat(dataset, dim='time') #,data_vars=list([u'mask',u'thk'])\n",
    "        datasets.append(concat_time)\n"
   ]
  },
  {
   "cell_type": "code",
   "execution_count": 6,
   "metadata": {},
   "outputs": [
    {
     "data": {
      "text/plain": [
       "[<xarray.Dataset>\n",
       " Dimensions:     (time: 1, x: 400, y: 400)\n",
       " Coordinates:\n",
       "   * time        (time) float64 0.0\n",
       "   * x           (x) float64 -2.795e+06 -2.78e+06 ... 3.175e+06 3.19e+06\n",
       "   * y           (y) float64 -2.795e+06 -2.78e+06 ... 3.175e+06 3.19e+06\n",
       "     lat         (y, x) float64 dask.array<chunksize=(400, 400), meta=np.ndarray>\n",
       "     lon         (y, x) float64 dask.array<chunksize=(400, 400), meta=np.ndarray>\n",
       " Data variables:\n",
       "     mask        (time, y, x) int8 dask.array<chunksize=(1, 400, 400), meta=np.ndarray>\n",
       "     thk         (time, y, x) float64 dask.array<chunksize=(1, 400, 400), meta=np.ndarray>\n",
       "     topg        (time, y, x) float64 dask.array<chunksize=(1, 400, 400), meta=np.ndarray>\n",
       "     usurf       (time, y, x) float64 dask.array<chunksize=(1, 400, 400), meta=np.ndarray>\n",
       "     velbar_mag  (time, y, x) float32 dask.array<chunksize=(1, 400, 400), meta=np.ndarray>\n",
       "     dbdt        (time, y, x) float64 dask.array<chunksize=(1, 400, 400), meta=np.ndarray>\n",
       " Attributes:\n",
       "     Conventions:  CF-1.5\n",
       "     command:       /p/tmp/albrecht/pism17/pismOut/forcing/forcing2205_LGM/bin...\n",
       "     history:      albrecht@cs-e14c05b10 2017-05-16 23:16:29 CEST: PISM done. ...\n",
       "     proj4:        +lon_0=0.0 +ellps=WGS84 +datum=WGS84 +lat_ts=-71.0 +proj=st...\n",
       "     source:       PISM (development c0cbb7b committed by Torsten Albrecht on ...,\n",
       " <xarray.Dataset>\n",
       " Dimensions:     (time: 349, x: 400, y: 400)\n",
       " Coordinates:\n",
       "     lat         (y, x) float64 dask.array<chunksize=(400, 400), meta=np.ndarray>\n",
       "     lon         (y, x) float64 dask.array<chunksize=(400, 400), meta=np.ndarray>\n",
       "   * time        (time) float64 0.0 -3.475e+04 -3.465e+04 ... -250.0 -150.0 -50.0\n",
       "   * x           (x) float64 -2.795e+06 -2.78e+06 ... 3.175e+06 3.19e+06\n",
       "   * y           (y) float64 -2.795e+06 -2.78e+06 ... 3.175e+06 3.19e+06\n",
       " Data variables:\n",
       "     mask        (time, y, x) int8 dask.array<chunksize=(349, 400, 400), meta=np.ndarray>\n",
       "     thk         (time, y, x) float32 dask.array<chunksize=(349, 400, 400), meta=np.ndarray>\n",
       "     topg        (time, y, x) float32 dask.array<chunksize=(349, 400, 400), meta=np.ndarray>\n",
       "     usurf       (time, y, x) float32 dask.array<chunksize=(349, 400, 400), meta=np.ndarray>\n",
       "     velbar_mag  (time, y, x) float32 dask.array<chunksize=(349, 400, 400), meta=np.ndarray>\n",
       " Attributes:\n",
       "     NCO:      netCDF Operators version 4.7.8 (Homepage = http://nco.sf.net, C...\n",
       "     history:  Wed Apr  7 18:06:08 2021: ncatted -O -a history_of_appended_fil...]"
      ]
     },
     "execution_count": 6,
     "metadata": {},
     "output_type": "execute_result"
    }
   ],
   "source": [
    "datasets"
   ]
  },
  {
   "cell_type": "markdown",
   "metadata": {},
   "source": [
    "<a id='xarraytozarr'></a>\n",
    "<h2>Export to Zarr Format</h2>"
   ]
  },
  {
   "cell_type": "code",
   "execution_count": 7,
   "metadata": {},
   "outputs": [
    {
     "data": {
      "application/vnd.jupyter.widget-view+json": {
       "model_id": "2f1985064c3c45fba4d7e7481d9b59a1",
       "version_major": 2,
       "version_minor": 0
      },
      "text/plain": [
       "HBox(children=(HTML(value=''), FloatProgress(value=0.0, max=2.0), HTML(value='')))"
      ]
     },
     "metadata": {},
     "output_type": "display_data"
    },
    {
     "name": "stdout",
     "output_type": "stream",
     "text": [
      "0 present\n",
      "1 extra\n",
      "\n"
     ]
    }
   ],
   "source": [
    "#import subprocess\n",
    "#\n",
    "#def du(path):\n",
    "#    \"\"\"disk usage in human readable format (e.g. '2,1GB')\"\"\"\n",
    "#    return subprocess.check_output(['du','-sh', path]).split()[0].decode('utf-8')\n",
    "\n",
    "\n",
    "for mi,mf in enumerate(tqdm(model_files)):\n",
    "    print(mi,mf)\n",
    "    zarr_present_folder = \"/p/tmp/albrecht/paleo_ensemble/pangeo/reference18/\"+mf\n",
    "    #if os.path.exists(zarr_present_folder):\n",
    "    #    os.removedirs(zarr_present_folder)\n",
    "    datasets[mi].to_zarr(zarr_present_folder, consolidated=True, mode='w')\n",
    "    #print(du(zarr_present_folder),commands.getoutput('du -sh '+zarr_present_folder).split()[0])\n",
    " \n",
    "\n",
    "# size of zarr folders:\n",
    "# public\n",
    "# 348M\textra\n",
    "# 3M\tpresent\n",
    "\n",
    "# archive\n",
    "# 407M\textra\n",
    "# 7M\tpresent\n"
   ]
  },
  {
   "cell_type": "markdown",
   "metadata": {},
   "source": [
    "<a id='addtoken'></a>\n",
    "<h2>Add token from LDEO which enables to write to bucket </h2>\n"
   ]
  },
  {
   "cell_type": "code",
   "execution_count": 8,
   "metadata": {},
   "outputs": [],
   "source": [
    "#print(gcsfs.__version__)\n",
    "with open('../tokens/ldeo-glaciology-bc97b12df06b.json') as token_file:\n",
    "    token = json.load(token_file)\n",
    "gcs = gcsfs.GCSFileSystem(token=token, access='read_write')"
   ]
  },
  {
   "cell_type": "markdown",
   "metadata": {},
   "source": [
    "<a id='writezarr'></a>\n",
    "<h2>Save zarr to bucket </h2>\n"
   ]
  },
  {
   "cell_type": "code",
   "execution_count": 9,
   "metadata": {},
   "outputs": [
    {
     "data": {
      "application/vnd.jupyter.widget-view+json": {
       "model_id": "d4cf0a94fc6c49ca91b2d8cb34bc5fad",
       "version_major": 2,
       "version_minor": 0
      },
      "text/plain": [
       "HBox(children=(HTML(value=''), FloatProgress(value=0.0, max=2.0), HTML(value='')))"
      ]
     },
     "metadata": {},
     "output_type": "display_data"
    },
    {
     "name": "stdout",
     "output_type": "stream",
     "text": [
      "0 present\n",
      "1 extra\n",
      "\n"
     ]
    }
   ],
   "source": [
    "for mi,mf in enumerate(tqdm(model_files)):\n",
    "    print(mi,mf)\n",
    "    #alldatasets[mi] = alldatasets[mi].drop('mapping')   # remove the variable.\n",
    "    mapper = gcs.get_mapper('gs://ldeo-glaciology/paleo_ensemble/reference18_'+mf+'.zarr')\n",
    "    datasets[mi].to_zarr(mapper, consolidated=True, mode='w')"
   ]
  },
  {
   "cell_type": "markdown",
   "metadata": {},
   "source": [
    "<a id='checkzarr'></a>\n",
    "<h2>Reload the zarr and compare with original </h2>\n"
   ]
  },
  {
   "cell_type": "code",
   "execution_count": 10,
   "metadata": {},
   "outputs": [
    {
     "data": {
      "text/plain": [
       "True"
      ]
     },
     "execution_count": 10,
     "metadata": {},
     "output_type": "execute_result"
    }
   ],
   "source": [
    "present_reloaded = xr.open_zarr(gcs.get_mapper('gs://ldeo-glaciology/paleo_ensemble/reference18_present.zarr'))  \n",
    "present_reloaded.identical(datasets[0])"
   ]
  },
  {
   "cell_type": "markdown",
   "metadata": {},
   "source": [
    "<a id='testplot'></a>\n",
    "<h2>Do some simple plot</h2>"
   ]
  },
  {
   "cell_type": "code",
   "execution_count": 11,
   "metadata": {},
   "outputs": [],
   "source": [
    "#present_reloaded.mask.mean(dim='id').plot()"
   ]
  },
  {
   "cell_type": "code",
   "execution_count": 12,
   "metadata": {},
   "outputs": [],
   "source": [
    "#cp ~/python/jupyter/paleo/pism_reference18_nc_to_zarr.ipynb ~/www/notebooks/paleo_paper/\n",
    "#see https://nbviewer.jupyter.org/url/www.pik-potsdam.de/~albrecht/notebooks/paleo_paper/pism_reference18_nc_to_zarr.ipynb"
   ]
  }
 ],
 "metadata": {
  "kernelspec": {
   "display_name": "Python 3",
   "language": "python",
   "name": "python3"
  },
  "language_info": {
   "codemirror_mode": {
    "name": "ipython",
    "version": 3
   },
   "file_extension": ".py",
   "mimetype": "text/x-python",
   "name": "python",
   "nbconvert_exporter": "python",
   "pygments_lexer": "ipython3",
   "version": "3.8.5"
  },
  "toc": {
   "base_numbering": 1,
   "nav_menu": {},
   "number_sections": true,
   "sideBar": true,
   "skip_h1_title": false,
   "title_cell": "Table of Contents",
   "title_sidebar": "Contents",
   "toc_cell": false,
   "toc_position": {},
   "toc_section_display": true,
   "toc_window_display": false
  }
 },
 "nbformat": 4,
 "nbformat_minor": 2
}
