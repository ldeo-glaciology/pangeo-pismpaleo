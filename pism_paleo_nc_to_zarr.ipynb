{
 "cells": [
  {
   "cell_type": "markdown",
   "metadata": {},
   "source": [
    "<a id='top'></a>\n",
    "<h1>PISM paleo data to zarr </h1>\n",
    "\n",
    "***Transformation of data from Antarctic Ice Sheet glacial cycle experiments***\n",
    "\n",
    "(c) 2020 by Torsten Albrecht (torsten.albrecht@pik-potsdam.de) | Potsdam Institute for Climate Impact Research (PIK)\n",
    "\n",
    "inspired by on https://github.com/ldeo-glaciology/pangeo-bedmachine\n",
    "\n",
    "\n",
    "**data:** Albrecht, Torsten (2019): PISM parameter ensemble analysis of Antarctic Ice Sheet glacial cycle simulations. PANGAEA, https://doi.pangaea.de/10.1594/PANGAEA.909728\n",
    "\n",
    "The analysis is based on the scoring scheme with respect to modern and paleo data (https://doi.org/10.5281/zenodo.3585118)."
   ]
  },
  {
   "cell_type": "markdown",
   "metadata": {},
   "source": [
    "<a id='overview'></a>\n",
    "<h2>Overview of PISM settings</h2>"
   ]
  },
  {
   "cell_type": "markdown",
   "metadata": {},
   "source": [
    "**Forcings and initial values** see https://github.com/pism/pism-ais\n",
    "\n",
    "*Initial ice configuration:* Bedmap2, Fretwell et al., 2013\n",
    "\n",
    "*Atmosphere:* Racmo v.2.3p2, Wessem et al., 2017\n",
    "\n",
    "*Ocean:* Schmidtko et al. 2014, Zwally et al., 2012\n",
    "\n",
    "*Basal Heatflux:* Martos et al., 2017\n",
    "\n",
    "\n",
    "\n",
    "**Key parameters**\n",
    "```\n",
    "\n",
    "ecalv = 1e17 m s\n",
    "hcalv = 75 m\n",
    "gammaT = 1.0e-5\n",
    "overturning_coeff = 0.8e6\n",
    "essa = 0.6\n",
    "till_effo = 0.04\n",
    "till_dec = 1 mm/yr\n",
    "\n",
    "ppq = 0.75\n",
    "esia = 2.0\n",
    "pscale = 7 %/K\n",
    "visc = 0.5e21 Pa s\n",
    "\n",
    "```\n",
    "\n",
    "**Run length**\n",
    "\n",
    "130,000 years\n",
    "\n",
    "**Horizontal grid resolution**\n",
    "\n",
    "16000 m x 16000 m (381 x 381 grid points as in initMIP)\n",
    "\n",
    "<br>\n",
    "<div class=\"alert alert-block alert-warning\">**PISM code version**\n",
    "<br><br>\n",
    "PISMR (basic evolution run mode stable v1.0-123-gf2e24e8 committed by Torsten Albrecht on 2018-01-22<br>\n",
    "see branch <a href=\"https://github.com/talbrecht/pism_pik/commits/pism_pik_1.0\">https://github.com/talbrecht/pism_pik/commits/pism_pik_1.0</a>,<br>\n",
    "see release <a href=\"https://github.com/talbrecht/pism_pik/releases/tag/v1.0-paleo-ensemble\">https://github.com/talbrecht/pism_pik/releases/tag/v1.0-paleo-ensemble</a>,<br>\n",
    "published in <a href=\"https://doi.org/10.5281/zenodo.3574033\">https://doi.org/10.5281/zenodo.3574033</a><br>\n",
    "</div>"
   ]
  },
  {
   "cell_type": "markdown",
   "metadata": {},
   "source": [
    "<a id='settings'></a>\n",
    "<h2>Notebook settings</h2>"
   ]
  },
  {
   "cell_type": "code",
   "execution_count": 1,
   "metadata": {},
   "outputs": [
    {
     "data": {
      "application/javascript": [
       "// hide presentation toolbar\n",
       "$('.nbp-app-bar').toggle()\n",
       "\n",
       "// disable autoscroll in output cells\n",
       "IPython.OutputArea.prototype._should_scroll = function(lines) {\n",
       "    return false;\n",
       "}\n"
      ],
      "text/plain": [
       "<IPython.core.display.Javascript object>"
      ]
     },
     "metadata": {},
     "output_type": "display_data"
    }
   ],
   "source": [
    "%%javascript\n",
    "// hide presentation toolbar\n",
    "$('.nbp-app-bar').toggle()\n",
    "\n",
    "// disable autoscroll in output cells\n",
    "IPython.OutputArea.prototype._should_scroll = function(lines) {\n",
    "    return false;\n",
    "}"
   ]
  },
  {
   "cell_type": "code",
   "execution_count": 2,
   "metadata": {},
   "outputs": [
    {
     "data": {
      "text/html": [
       "<style>.container { width:90% !important; }</style>"
      ],
      "text/plain": [
       "<IPython.core.display.HTML object>"
      ]
     },
     "metadata": {},
     "output_type": "display_data"
    }
   ],
   "source": [
    "# Make the notebook cells take almost all available width\n",
    "\n",
    "from IPython.core.display import display, HTML\n",
    "display(HTML(\"<style>.container { width:90% !important; }</style>\"))\n",
    "# More info:\n",
    "# https://stackoverflow.com/questions/21971449/how-do-i-increase-the-cell-width-of-the-jupyter-ipython-notebook-in-my-browser"
   ]
  },
  {
   "cell_type": "markdown",
   "metadata": {},
   "source": [
    "<a id='constants'></a>\n",
    "<h2>PISM constants and pathes</h2>"
   ]
  },
  {
   "cell_type": "code",
   "execution_count": 3,
   "metadata": {},
   "outputs": [
    {
     "name": "stdout",
     "output_type": "stream",
     "text": [
      "\n",
      "INSTALLED VERSIONS\n",
      "------------------\n",
      "commit: None\n",
      "python: 3.8.5 (default, Sep  4 2020, 07:30:14) \n",
      "[GCC 7.3.0]\n",
      "python-bits: 64\n",
      "OS: Linux\n",
      "OS-release: 4.4.162-94.72-default\n",
      "machine: x86_64\n",
      "processor: x86_64\n",
      "byteorder: little\n",
      "LC_ALL: None\n",
      "LANG: en_US.UTF-8\n",
      "LOCALE: en_US.UTF-8\n",
      "libhdf5: 1.10.4\n",
      "libnetcdf: 4.7.3\n",
      "\n",
      "xarray: 0.16.1\n",
      "pandas: 1.1.4\n",
      "numpy: 1.19.4\n",
      "scipy: 1.5.2\n",
      "netCDF4: 1.5.3\n",
      "pydap: None\n",
      "h5netcdf: None\n",
      "h5py: None\n",
      "Nio: None\n",
      "zarr: 2.5.0\n",
      "cftime: 1.3.0\n",
      "nc_time_axis: None\n",
      "PseudoNetCDF: None\n",
      "rasterio: None\n",
      "cfgrib: None\n",
      "iris: None\n",
      "bottleneck: None\n",
      "dask: 2.30.0\n",
      "distributed: 2.30.1\n",
      "matplotlib: 3.3.3\n",
      "cartopy: 0.18.0\n",
      "seaborn: None\n",
      "numbagg: None\n",
      "pint: None\n",
      "setuptools: 50.3.0.post20201006\n",
      "pip: 20.2.4\n",
      "conda: None\n",
      "pytest: None\n",
      "IPython: 7.18.1\n",
      "sphinx: None\n"
     ]
    }
   ],
   "source": [
    "%matplotlib inline\n",
    "%config InlineBackend.figure_formats = {'svg',}\n",
    "\n",
    "#import matplotlib.pylab as plt\n",
    "import netCDF4 as nc\n",
    "import numpy as np\n",
    "import xarray as xr\n",
    "import gcsfs\n",
    "import json\n",
    "import cftime\n",
    "import copy, os\n",
    "from tqdm.notebook import tqdm   # progress bar\n",
    "\n",
    "### set constants\n",
    "seconds_per_year = 365.0*24.0*60.0*60.0\n",
    "rhoi  = 910.0\n",
    "rhosw = 1028.0\n",
    "rhofw = 1.0e3\n",
    "km3_to_msle = 361.0e3*rhosw/rhoi\n",
    "\n",
    "resolution=16\n",
    "\n",
    "### PISM mask values\n",
    "mfl=3 #floating\n",
    "moc=4 #open ocean (sea ice not considered!)\n",
    "mgr=2 #grounded ice\n",
    "\n",
    "trunk = \"/p/tmp/albrecht/paleo_ensemble/\"\n",
    "datapath = trunk+\"datapub/model_data/\"\n",
    "ensembleout = datapath+\"aggregated_data/\"\n",
    "\n",
    "#score_names = [\"TOTAL\",\"TOTE\",\"TOTI\",\"TOTDH\",\"TOTVEL\",\"TOTGL\",\"TOTUPL\",\"TROUGH\",\"ELEV\",\"EXT\"]\n",
    "\n",
    "xr.show_versions()"
   ]
  },
  {
   "cell_type": "markdown",
   "metadata": {},
   "source": [
    "<a id='scores'></a>\n",
    "<h2>Read the ensemble paramters and scores</h2>"
   ]
  },
  {
   "cell_type": "code",
   "execution_count": 4,
   "metadata": {},
   "outputs": [
    {
     "name": "stdout",
     "output_type": "stream",
     "text": [
      "['6165', '6245', '6242']\n"
     ]
    }
   ],
   "source": [
    "def get_parameter_values_for_ensemble(pfile):\n",
    "\n",
    "    param_dict={}\n",
    "    param_ens={}\n",
    "    param_names=[]\n",
    "    param_diff={}\n",
    "\n",
    "    with open(pfile) as f:\n",
    "      for l,line in enumerate(f.readlines()):\n",
    "\n",
    "        param_vals={}\n",
    "        params=line.rstrip('\\n').split('\"')\n",
    "\n",
    "        #header with parameter names\n",
    "        if l==0:\n",
    "          for pn in params[0].split(' '):\n",
    "              param_names.append(pn)\n",
    "\n",
    "        else:\n",
    "          ensmem=str(params[1].split(' ')[1])\n",
    "          for pi,pn in enumerate(params[2].split(' ')):\n",
    "              try:\n",
    "                param_vals[param_names[pi]]=np.float(pn)\n",
    "              except:\n",
    "                \"no paramter val\"\n",
    "              if param_names[pi]=='visc':\n",
    "                param_vals[param_names[pi]]=np.float(pn)*1e21\n",
    "\n",
    "          if l==1:\n",
    "            param_diff=param_vals\n",
    "          else:\n",
    "            for pn,pval in param_vals.items():\n",
    "              if pval!=param_diff[pn]:\n",
    "\n",
    "                if pn not in param_dict.keys():\n",
    "                  param_dict.setdefault(pn, [])\n",
    "\n",
    "                if pval not in param_dict[pn]:\n",
    "                  param_dict[pn].append(pval)\n",
    "\n",
    "          param_ens[ensmem]=param_vals\n",
    "\n",
    "    #add parameter vals from first run\n",
    "    for pn,pvals in param_dict.items():\n",
    "      param_dict[pn].insert(0,param_diff[pn])\n",
    "\n",
    "    return (param_ens,param_dict)\n",
    "\n",
    "##########################################################################################\n",
    "runfile = ensembleout+\"pism1.0_paleo06_6000.csv\"\n",
    "ens_par,par_space = get_parameter_values_for_ensemble(runfile)\n",
    "\n",
    "\n",
    "statfile = ensembleout+\"le_all06_16km.txt\"\n",
    "\n",
    "ens_scr={}\n",
    "with open(statfile) as fp:\n",
    "    for line in fp:\n",
    "        scorenum=line.split(\",\")[0]\n",
    "        scores=[]\n",
    "        for i,score in enumerate(line.split(\",\")):\n",
    "          if i>0:\n",
    "            scores.append(np.float(score.rstrip(\"\\n\"))) \n",
    "        ens_scr[scorenum]=scores\n",
    "        \n",
    "best_scores = [ k for k, v in sorted(ens_scr.items(), key=lambda l: l[1], reverse=True)]\n",
    "print(best_scores[0:3])\n"
   ]
  },
  {
   "cell_type": "markdown",
   "metadata": {},
   "source": [
    "<a id='pismfiles'></a>\n",
    "<h2>Collect all ensemble result files in dict</h2>"
   ]
  },
  {
   "cell_type": "code",
   "execution_count": 5,
   "metadata": {},
   "outputs": [
    {
     "data": {
      "application/vnd.jupyter.widget-view+json": {
       "model_id": "3f9c5021d78f45f39f96f864ece5dd96",
       "version_major": 2,
       "version_minor": 0
      },
      "text/plain": [
       "HBox(children=(HTML(value=''), FloatProgress(value=0.0, max=255.0), HTML(value='')))"
      ]
     },
     "metadata": {},
     "output_type": "display_data"
    },
    {
     "name": "stdout",
     "output_type": "stream",
     "text": [
      "\n"
     ]
    }
   ],
   "source": [
    "\n",
    "ensemble = dict.fromkeys([\"name\",\"exp_dir\",\"exp_name\",\"start_id\",\"end_id\"])\n",
    "model_files = [\"present\",\"extra\",\"timeseries\"]\n",
    "\n",
    "ensemble['name'] = 'paleo_ensemble'\n",
    "ensemble['exp_dir'] = datapath\n",
    "ensemble['exp_name'] = \"pism1.0_paleo06\"\n",
    "ensemble['start_id'] = 6000\n",
    "ensemble['end_id'] = 6255\n",
    "# best fit/score reference: 6165\n",
    "\n",
    "ensemble['notes'] = \"PISM paleo ensemble data as in https://doi.org/10.1594/PANGAEA.909728\"\n",
    "ensemble['parameter_space'] = par_space\n",
    "\n",
    "run = dict.fromkeys([\"proj_dir\",\"scores\",\"file_path\",\"parameter_values\"]) #FIXME: fill notes with parameters and scores \n",
    "runs = {}\n",
    "for id in np.arange(ensemble['start_id'],ensemble['end_id']):\n",
    "    runs[id]=copy.deepcopy(run)\n",
    "    \n",
    "\n",
    "for k, v in tqdm(runs.items(),total=len(runs)):\n",
    "        #print(k,v)\n",
    "        runs[k]['proj_dir'] = os.path.join(ensemble['exp_dir'], ensemble['exp_name']+\"_\"+str(k))\n",
    "        runs[k]['file_path'] = dict.fromkeys(model_files,\"\")\n",
    "        \n",
    "        present_file = \"paleo.nc\"\n",
    "        runs[k]['file_path']['present'] = [os.path.join(runs[k]['proj_dir'], present_file)]\n",
    "        \n",
    "        snap_files = [\"snapshots_-20000.000.nc\",\"snapshots_-15000.000.nc\",\"snapshots_-10000.000.nc\",\"snapshots_-5000.000.nc\",present_file]\n",
    "        runs[k]['file_path']['snapshots'] = []\n",
    "        for sf in snap_files:\n",
    "            runs[k]['file_path']['snapshots'].append(os.path.join(runs[k]['proj_dir'], sf))\n",
    "        \n",
    "        mask_file = \"extra_paleo_mask.nc\"\n",
    "        runs[k]['file_path']['extra'] = [os.path.join(runs[k]['proj_dir'], mask_file)]\n",
    "        \n",
    "        time_file = \"timeseries.nc\"\n",
    "        runs[k]['file_path']['timeseries'] = [os.path.join(runs[k]['proj_dir'], time_file)]\n",
    "        \n",
    "        runs[k]['parameter_values'] = ens_par[str(k)]\n",
    "        runs[k]['scores'] = ens_scr[str(k)]\n",
    "           \n"
   ]
  },
  {
   "cell_type": "markdown",
   "metadata": {},
   "source": [
    "<a id='xarrayload'></a>\n",
    "<h2>Load PISM netCDF files to xarrays </h2>"
   ]
  },
  {
   "cell_type": "code",
   "execution_count": 6,
   "metadata": {},
   "outputs": [
    {
     "data": {
      "application/vnd.jupyter.widget-view+json": {
       "model_id": "4f519b50e42846e6afd9a87ffe04979d",
       "version_major": 2,
       "version_minor": 0
      },
      "text/plain": [
       "HBox(children=(HTML(value=''), FloatProgress(value=0.0, max=3.0), HTML(value='')))"
      ]
     },
     "metadata": {},
     "output_type": "display_data"
    },
    {
     "name": "stdout",
     "output_type": "stream",
     "text": [
      "present\n",
      "extra\n",
      "timeseries\n",
      "\n"
     ]
    }
   ],
   "source": [
    "\n",
    "variables={'snapshots':['thk','mask'],\n",
    "           'present':['thk','mask','topg','usurf','velsurf_mag','dbdt'],\n",
    "           'extra':['mask'],\n",
    "           'lgm':['thk','mask','topg','usurf'],\n",
    "           'timeseries':['slvol','ice_volume_glacierized','time']}\n",
    "\n",
    "alldatasets=[]\n",
    "\n",
    "for mf in tqdm(model_files):\n",
    "    print(mf)\n",
    "    datasets=[]\n",
    "    for k in sorted(runs.keys()):\n",
    "        dataset=[]\n",
    "        if runs[k]['file_path'][mf]:\n",
    "            for pismf in runs[k]['file_path'][mf]:\n",
    "              #with xr.set_options(enable_cftimeindex=True):\n",
    "                with xr.open_dataset(pismf, decode_cf=True,decode_times=False) as ds: #decode_timedelta=True,use_cftime=True\n",
    "                    ds = ds.get(variables[mf])\n",
    "                    \n",
    "                    # convert to years\n",
    "                    ds[\"time\"]=(['time'], ds[\"time\"].time/seconds_per_year)\n",
    "                    \n",
    "                    # add ensemble scores\n",
    "                    ds[\"score\"]=(['id'],  [ens_scr[str(k)][0]])\n",
    "                    \n",
    "                    # add ensemble paramter space, FIXME: Should be done only once\n",
    "                    ds.attrs['parameter_space'] = str(par_space)\n",
    "                    dataset.append(ds)\n",
    "                    \n",
    "        concat_time = xr.concat(dataset, dim='time') #,data_vars=list([u'mask',u'thk'])\n",
    "        datasets.append(concat_time)\n",
    "\n",
    "    combined = xr.concat(datasets, dim='id')\n",
    "    alldatasets.append(combined)\n",
    "    \n",
    "#alldatasets.attrs['parameter_space'] = str(par_space)\n"
   ]
  },
  {
   "cell_type": "markdown",
   "metadata": {},
   "source": [
    "<a id='xarraytozarr'></a>\n",
    "<h2>Export to Zarr Format</h2>"
   ]
  },
  {
   "cell_type": "code",
   "execution_count": 7,
   "metadata": {},
   "outputs": [
    {
     "data": {
      "application/vnd.jupyter.widget-view+json": {
       "model_id": "d8201e9ea5b1444083be14bedc4ad5f7",
       "version_major": 2,
       "version_minor": 0
      },
      "text/plain": [
       "HBox(children=(HTML(value=''), FloatProgress(value=0.0, max=3.0), HTML(value='')))"
      ]
     },
     "metadata": {},
     "output_type": "display_data"
    },
    {
     "name": "stdout",
     "output_type": "stream",
     "text": [
      "0 present\n",
      "1 extra\n",
      "2 timeseries\n",
      "\n"
     ]
    }
   ],
   "source": [
    "#import subprocess\n",
    "#\n",
    "#def du(path):\n",
    "#    \"\"\"disk usage in human readable format (e.g. '2,1GB')\"\"\"\n",
    "#    return subprocess.check_output(['du','-sh', path]).split()[0].decode('utf-8')\n",
    "\n",
    "for mi,mf in enumerate(tqdm(model_files)):\n",
    "    print(mi,mf)\n",
    "    zarr_present_folder = trunk+\"pangeo/zarr/\"+mf\n",
    "    alldatasets[mi].to_zarr(zarr_present_folder, consolidated=True, mode='w')\n",
    "    #print(du(zarr_present_folder),commands.getoutput('du -sh '+zarr_present_folder).split()[0])\n"
   ]
  },
  {
   "cell_type": "markdown",
   "metadata": {},
   "source": [
    "**size of zarr folders:**\n",
    " \n",
    " - 361M\textra\n",
    " - 823M\tpresent\n",
    " - 394M\ttimeseries"
   ]
  },
  {
   "cell_type": "markdown",
   "metadata": {},
   "source": [
    "<a id='addtoken'></a>\n",
    "<h2>Add token from LDEO which enables to write to bucket </h2>\n"
   ]
  },
  {
   "cell_type": "code",
   "execution_count": 8,
   "metadata": {},
   "outputs": [],
   "source": [
    "#print(gcsfs.__version__)\n",
    "with open('../../tokens/ldeo-glaciology-bc97b12df06b.json') as token_file:\n",
    "    token = json.load(token_file)\n",
    "gcs = gcsfs.GCSFileSystem(token=token, access='read_write')"
   ]
  },
  {
   "cell_type": "markdown",
   "metadata": {},
   "source": [
    "<a id='writezarr'></a>\n",
    "<h2>Save zarr to bucket </h2>\n"
   ]
  },
  {
   "cell_type": "code",
   "execution_count": 9,
   "metadata": {},
   "outputs": [
    {
     "data": {
      "application/vnd.jupyter.widget-view+json": {
       "model_id": "7d020281bbc14fbcb608f358515d1b13",
       "version_major": 2,
       "version_minor": 0
      },
      "text/plain": [
       "HBox(children=(HTML(value=''), FloatProgress(value=0.0, max=3.0), HTML(value='')))"
      ]
     },
     "metadata": {},
     "output_type": "display_data"
    },
    {
     "name": "stdout",
     "output_type": "stream",
     "text": [
      "0 present\n",
      "1 extra\n",
      "2 timeseries\n",
      "\n"
     ]
    }
   ],
   "source": [
    "for mi,mf in enumerate(tqdm(model_files)):\n",
    "    print(mi,mf)\n",
    "    #alldatasets[mi] = alldatasets[mi].drop('mapping')   # remove the variable.\n",
    "    mapper = gcs.get_mapper('gs://ldeo-glaciology/paleo_ensemble/'+mf+'.zarr')\n",
    "    #alldatasets[mi].to_zarr(mapper, consolidated=True, mode='w')"
   ]
  },
  {
   "cell_type": "markdown",
   "metadata": {},
   "source": [
    "<a id='checkzarr'></a>\n",
    "<h2>Reload the zarr and compare with original </h2>\n"
   ]
  },
  {
   "cell_type": "code",
   "execution_count": 10,
   "metadata": {},
   "outputs": [
    {
     "data": {
      "text/plain": [
       "True"
      ]
     },
     "execution_count": 10,
     "metadata": {},
     "output_type": "execute_result"
    }
   ],
   "source": [
    "present_reloaded = xr.open_zarr(gcs.get_mapper('gs://ldeo-glaciology/paleo_ensemble/present.zarr'))  \n",
    "present_reloaded.identical(alldatasets[0])"
   ]
  },
  {
   "cell_type": "code",
   "execution_count": null,
   "metadata": {},
   "outputs": [],
   "source": [
    "extra_reloaded = xr.open_zarr(gcs.get_mapper('gs://ldeo-glaciology/paleo_ensemble/extra.zarr'))  \n",
    "extra_reloaded.identical(alldatasets[1])"
   ]
  },
  {
   "cell_type": "code",
   "execution_count": null,
   "metadata": {},
   "outputs": [],
   "source": [
    "timeseries_reloaded = xr.open_zarr(gcs.get_mapper('gs://ldeo-glaciology/paleo_ensemble/timeseries.zarr'))  \n",
    "timeseries_reloaded.identical(alldatasets[2])"
   ]
  },
  {
   "cell_type": "code",
   "execution_count": null,
   "metadata": {},
   "outputs": [],
   "source": [
    "# display metadata\n",
    "present_reloaded"
   ]
  },
  {
   "cell_type": "markdown",
   "metadata": {},
   "source": [
    "<a id='testplot'></a>\n",
    "<h2>Do some simple plot</h2>"
   ]
  },
  {
   "cell_type": "code",
   "execution_count": null,
   "metadata": {},
   "outputs": [],
   "source": [
    "present_reloaded.mask.mean(dim='id').plot()"
   ]
  }
 ],
 "metadata": {
  "kernelspec": {
   "display_name": "Python 3",
   "language": "python",
   "name": "python3"
  },
  "language_info": {
   "codemirror_mode": {
    "name": "ipython",
    "version": 3
   },
   "file_extension": ".py",
   "mimetype": "text/x-python",
   "name": "python",
   "nbconvert_exporter": "python",
   "pygments_lexer": "ipython3",
   "version": "3.8.5"
  },
  "toc": {
   "base_numbering": 1,
   "nav_menu": {},
   "number_sections": true,
   "sideBar": true,
   "skip_h1_title": false,
   "title_cell": "Table of Contents",
   "title_sidebar": "Contents",
   "toc_cell": false,
   "toc_position": {},
   "toc_section_display": true,
   "toc_window_display": false
  }
 },
 "nbformat": 4,
 "nbformat_minor": 2
}
